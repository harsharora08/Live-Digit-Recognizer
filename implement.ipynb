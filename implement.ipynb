{
 "cells": [
  {
   "cell_type": "code",
   "execution_count": 1,
   "id": "ce650581",
   "metadata": {},
   "outputs": [],
   "source": [
    "import numpy as np\n",
    "import cv2 as cv\n",
    "from mss import mss\n",
    "from PIL import Image"
   ]
  },
  {
   "cell_type": "code",
   "execution_count": 5,
   "id": "c3fe64ae",
   "metadata": {},
   "outputs": [],
   "source": [
    "import tensorflow.keras as kr\n",
    "mdl = kr.models.load_model('mnist.h5')"
   ]
  },
  {
   "cell_type": "code",
   "execution_count": 6,
   "id": "1d09ee20",
   "metadata": {},
   "outputs": [],
   "source": [
    "def fnew(test):\n",
    "    test = cv.cvtColor(test, cv.COLOR_BGR2GRAY)\n",
    "    test = cv.resize(test, (28, 28))\n",
    "    test = test.reshape(28, 28, 1)\n",
    "    t = np.array([test], dtype=np.float32)\n",
    "    x = mdl.predict(t, verbose=0)\n",
    "    return x.argmax()"
   ]
  },
  {
   "cell_type": "code",
   "execution_count": 7,
   "id": "0bd7926b",
   "metadata": {
    "scrolled": true
   },
   "outputs": [],
   "source": [
    "bounding_box = {'top': 230, 'left': 60, 'width': 224, 'height': 224}\n",
    "\n",
    "sct = mss()\n",
    "\n",
    "while True:\n",
    "    sct_img = sct.grab(bounding_box)\n",
    "    r = 'waiting'\n",
    "    r2 = fnew(np.array(sct_img))\n",
    "    cv.imshow(str(r), np.array(sct_img))\n",
    "    cv.setWindowTitle(str(r), str(r2))\n",
    "    r=r2\n",
    "\n",
    "    if (cv.waitKey(1) & 0xFF) == ord('q'):\n",
    "        cv.destroyAllWindows()\n",
    "        break\n",
    "    \n",
    "    "
   ]
  },
  {
   "cell_type": "code",
   "execution_count": null,
   "id": "fc8e23cb",
   "metadata": {},
   "outputs": [],
   "source": []
  }
 ],
 "metadata": {
  "kernelspec": {
   "display_name": "Python 3 (ipykernel)",
   "language": "python",
   "name": "python3"
  },
  "language_info": {
   "codemirror_mode": {
    "name": "ipython",
    "version": 3
   },
   "file_extension": ".py",
   "mimetype": "text/x-python",
   "name": "python",
   "nbconvert_exporter": "python",
   "pygments_lexer": "ipython3",
   "version": "3.9.13"
  }
 },
 "nbformat": 4,
 "nbformat_minor": 5
}
