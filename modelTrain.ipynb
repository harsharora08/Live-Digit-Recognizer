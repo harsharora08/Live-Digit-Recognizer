{
 "cells": [
  {
   "cell_type": "code",
   "execution_count": 117,
   "id": "72e010b4",
   "metadata": {},
   "outputs": [],
   "source": [
    "import cv2 as cv\n",
    "import tensorflow.keras as kr"
   ]
  },
  {
   "cell_type": "code",
   "execution_count": 118,
   "id": "da6b4062",
   "metadata": {},
   "outputs": [],
   "source": [
    "(X_train, y_train), (X_test, y_test) = kr.datasets.mnist.load_data()"
   ]
  },
  {
   "cell_type": "code",
   "execution_count": 119,
   "id": "af03b7b1",
   "metadata": {},
   "outputs": [
    {
     "data": {
      "text/plain": [
       "(60000, 28, 28)"
      ]
     },
     "execution_count": 119,
     "metadata": {},
     "output_type": "execute_result"
    }
   ],
   "source": [
    "X_train.shape"
   ]
  },
  {
   "cell_type": "code",
   "execution_count": 120,
   "id": "96107832",
   "metadata": {},
   "outputs": [
    {
     "data": {
      "text/plain": [
       "(60000, 28, 28, 1)"
      ]
     },
     "execution_count": 120,
     "metadata": {},
     "output_type": "execute_result"
    }
   ],
   "source": [
    "(X_train.shape[0], X_train.shape[1], X_train.shape[2], 1)"
   ]
  },
  {
   "cell_type": "code",
   "execution_count": 121,
   "id": "4dfe2350",
   "metadata": {},
   "outputs": [],
   "source": [
    "X_train = X_train.reshape(X_train.shape[0], X_train.shape[1], X_train.shape[2], 1)"
   ]
  },
  {
   "cell_type": "code",
   "execution_count": 122,
   "id": "5b620315",
   "metadata": {},
   "outputs": [],
   "source": [
    "X_test = X_test.reshape(X_test.shape[0], X_test.shape[1], X_test.shape[2], 1)"
   ]
  },
  {
   "cell_type": "code",
   "execution_count": 123,
   "id": "7b51a407",
   "metadata": {},
   "outputs": [],
   "source": [
    "input_shape = (X_test.shape[1], X_test.shape[2], 1)"
   ]
  },
  {
   "cell_type": "code",
   "execution_count": 124,
   "id": "eecc29c9",
   "metadata": {},
   "outputs": [],
   "source": [
    "X_train = X_train.astype('float32')\n",
    "X_test = X_test.astype('float32')"
   ]
  },
  {
   "cell_type": "code",
   "execution_count": 125,
   "id": "89cd38a8",
   "metadata": {},
   "outputs": [],
   "source": [
    "X_train /= 255\n",
    "X_test /= 255"
   ]
  },
  {
   "cell_type": "code",
   "execution_count": 126,
   "id": "89283da2",
   "metadata": {},
   "outputs": [],
   "source": [
    "import pandas as pd"
   ]
  },
  {
   "cell_type": "code",
   "execution_count": 127,
   "id": "e4a8a073",
   "metadata": {},
   "outputs": [],
   "source": [
    "y_train = pd.get_dummies(y_train)"
   ]
  },
  {
   "cell_type": "code",
   "execution_count": 128,
   "id": "3c1994a3",
   "metadata": {},
   "outputs": [],
   "source": [
    "y_test = pd.get_dummies(y_test)"
   ]
  },
  {
   "cell_type": "code",
   "execution_count": 129,
   "id": "d48df3c0",
   "metadata": {},
   "outputs": [
    {
     "data": {
      "text/plain": [
       "<function keras.losses.sparse_categorical_crossentropy(y_true, y_pred, from_logits=False, axis=-1, ignore_class=None)>"
      ]
     },
     "execution_count": 129,
     "metadata": {},
     "output_type": "execute_result"
    }
   ],
   "source": [
    "kr.losses.sparse_categorical_crossentropy"
   ]
  },
  {
   "cell_type": "code",
   "execution_count": 131,
   "id": "ebb1336e",
   "metadata": {},
   "outputs": [],
   "source": [
    "model = kr.models.Sequential()\n",
    "\n",
    "model.add(kr.layers.Conv2D(32, 3, padding = 'same', kernel_initializer = 'he_normal', activation = kr.activations.relu, input_shape = (28,28,1)))\n",
    "model.add(kr.layers.MaxPool2D(2))\n",
    "model.add(kr.layers.BatchNormalization())\n",
    "\n",
    "model.add(kr.layers.Conv2D(64, 3, padding = 'same', kernel_initializer = 'he_normal', activation = kr.activations.relu))\n",
    "model.add(kr.layers.MaxPool2D(2))\n",
    "model.add(kr.layers.BatchNormalization())\n",
    "\n",
    "model.add(kr.layers.Conv2D(128, 3, padding = 'same', kernel_initializer = 'he_normal', activation = kr.activations.relu))\n",
    "model.add(kr.layers.MaxPool2D(2))\n",
    "model.add(kr.layers.BatchNormalization())\n",
    "\n",
    "model.add(kr.layers.Flatten())\n",
    "model.add(kr.layers.Dropout(0.3))\n",
    "\n",
    "model.add(kr.layers.Dense(128, kernel_initializer = 'he_normal', activation = kr.activations.relu))\n",
    "model.add(kr.layers.Dropout(0.2))\n",
    "model.add(kr.layers.Dense(256, kernel_initializer = 'he_normal', activation = kr.activations.relu))\n",
    "model.add(kr.layers.Dropout(0.2))\n",
    "model.add(kr.layers.Dense(10, activation = 'softmax'))\n",
    "\n",
    "model.compile(optimizer = kr.optimizers.Adam(learning_rate = 3e-4), loss = kr.losses.categorical_crossentropy, metrics = ['accuracy'])"
   ]
  },
  {
   "cell_type": "code",
   "execution_count": 15,
   "id": "80118cff",
   "metadata": {
    "scrolled": true
   },
   "outputs": [
    {
     "name": "stdout",
     "output_type": "stream",
     "text": [
      "Model: \"sequential\"\n",
      "_________________________________________________________________\n",
      " Layer (type)                Output Shape              Param #   \n",
      "=================================================================\n",
      " conv2d (Conv2D)             (None, 28, 28, 32)        320       \n",
      "                                                                 \n",
      " max_pooling2d (MaxPooling2D  (None, 14, 14, 32)       0         \n",
      " )                                                               \n",
      "                                                                 \n",
      " batch_normalization (BatchN  (None, 14, 14, 32)       128       \n",
      " ormalization)                                                   \n",
      "                                                                 \n",
      " conv2d_1 (Conv2D)           (None, 14, 14, 64)        18496     \n",
      "                                                                 \n",
      " max_pooling2d_1 (MaxPooling  (None, 7, 7, 64)         0         \n",
      " 2D)                                                             \n",
      "                                                                 \n",
      " batch_normalization_1 (Batc  (None, 7, 7, 64)         256       \n",
      " hNormalization)                                                 \n",
      "                                                                 \n",
      " conv2d_2 (Conv2D)           (None, 7, 7, 128)         73856     \n",
      "                                                                 \n",
      " max_pooling2d_2 (MaxPooling  (None, 3, 3, 128)        0         \n",
      " 2D)                                                             \n",
      "                                                                 \n",
      " batch_normalization_2 (Batc  (None, 3, 3, 128)        512       \n",
      " hNormalization)                                                 \n",
      "                                                                 \n",
      " flatten (Flatten)           (None, 1152)              0         \n",
      "                                                                 \n",
      " dropout (Dropout)           (None, 1152)              0         \n",
      "                                                                 \n",
      " dense (Dense)               (None, 128)               147584    \n",
      "                                                                 \n",
      " dropout_1 (Dropout)         (None, 128)               0         \n",
      "                                                                 \n",
      " dense_1 (Dense)             (None, 10)                1290      \n",
      "                                                                 \n",
      "=================================================================\n",
      "Total params: 242,442\n",
      "Trainable params: 241,994\n",
      "Non-trainable params: 448\n",
      "_________________________________________________________________\n"
     ]
    }
   ],
   "source": [
    "model.summary()"
   ]
  },
  {
   "cell_type": "code",
   "execution_count": 135,
   "id": "fd98214f",
   "metadata": {},
   "outputs": [],
   "source": [
    "early = kr.callbacks.EarlyStopping(monitor='val_loss', mode='min', patience=15)"
   ]
  },
  {
   "cell_type": "code",
   "execution_count": 136,
   "id": "464f4010",
   "metadata": {
    "scrolled": true
   },
   "outputs": [
    {
     "name": "stdout",
     "output_type": "stream",
     "text": [
      "Epoch 1/200\n",
      "1875/1875 [==============================] - 17s 9ms/step - loss: 0.1247 - accuracy: 0.9621 - val_loss: 0.0452 - val_accuracy: 0.9857\n",
      "Epoch 2/200\n",
      "1875/1875 [==============================] - 16s 9ms/step - loss: 0.0729 - accuracy: 0.9783 - val_loss: 0.0407 - val_accuracy: 0.9874\n",
      "Epoch 3/200\n",
      "1875/1875 [==============================] - 16s 9ms/step - loss: 0.0551 - accuracy: 0.9832 - val_loss: 0.0299 - val_accuracy: 0.9905\n",
      "Epoch 4/200\n",
      "1875/1875 [==============================] - 16s 9ms/step - loss: 0.0437 - accuracy: 0.9868 - val_loss: 0.0349 - val_accuracy: 0.9895\n",
      "Epoch 5/200\n",
      "1875/1875 [==============================] - 17s 9ms/step - loss: 0.0397 - accuracy: 0.9882 - val_loss: 0.0317 - val_accuracy: 0.9899\n",
      "Epoch 6/200\n",
      "1875/1875 [==============================] - 16s 9ms/step - loss: 0.0305 - accuracy: 0.9906 - val_loss: 0.0331 - val_accuracy: 0.9907\n",
      "Epoch 7/200\n",
      "1875/1875 [==============================] - 16s 8ms/step - loss: 0.0272 - accuracy: 0.9915 - val_loss: 0.0277 - val_accuracy: 0.9919\n",
      "Epoch 8/200\n",
      "1875/1875 [==============================] - 16s 8ms/step - loss: 0.0241 - accuracy: 0.9928 - val_loss: 0.0300 - val_accuracy: 0.9912\n",
      "Epoch 9/200\n",
      "1875/1875 [==============================] - 16s 9ms/step - loss: 0.0212 - accuracy: 0.9933 - val_loss: 0.0272 - val_accuracy: 0.9929\n",
      "Epoch 10/200\n",
      "1875/1875 [==============================] - 16s 9ms/step - loss: 0.0182 - accuracy: 0.9942 - val_loss: 0.0321 - val_accuracy: 0.9920\n",
      "Epoch 11/200\n",
      "1875/1875 [==============================] - 16s 9ms/step - loss: 0.0192 - accuracy: 0.9941 - val_loss: 0.0299 - val_accuracy: 0.9922\n",
      "Epoch 12/200\n",
      "1875/1875 [==============================] - 16s 9ms/step - loss: 0.0163 - accuracy: 0.9949 - val_loss: 0.0326 - val_accuracy: 0.9911\n",
      "Epoch 13/200\n",
      "1875/1875 [==============================] - 16s 9ms/step - loss: 0.0139 - accuracy: 0.9957 - val_loss: 0.0295 - val_accuracy: 0.9930\n",
      "Epoch 14/200\n",
      "1875/1875 [==============================] - 16s 9ms/step - loss: 0.0149 - accuracy: 0.9954 - val_loss: 0.0301 - val_accuracy: 0.9929\n",
      "Epoch 15/200\n",
      "1875/1875 [==============================] - 16s 9ms/step - loss: 0.0130 - accuracy: 0.9960 - val_loss: 0.0248 - val_accuracy: 0.9932\n",
      "Epoch 16/200\n",
      "1875/1875 [==============================] - 16s 9ms/step - loss: 0.0131 - accuracy: 0.9961 - val_loss: 0.0275 - val_accuracy: 0.9928\n",
      "Epoch 17/200\n",
      "1875/1875 [==============================] - 16s 9ms/step - loss: 0.0126 - accuracy: 0.9959 - val_loss: 0.0270 - val_accuracy: 0.9926\n",
      "Epoch 18/200\n",
      "1875/1875 [==============================] - 16s 9ms/step - loss: 0.0101 - accuracy: 0.9969 - val_loss: 0.0255 - val_accuracy: 0.9933\n",
      "Epoch 19/200\n",
      "1875/1875 [==============================] - 16s 9ms/step - loss: 0.0115 - accuracy: 0.9963 - val_loss: 0.0261 - val_accuracy: 0.9932\n",
      "Epoch 20/200\n",
      "1875/1875 [==============================] - 16s 9ms/step - loss: 0.0098 - accuracy: 0.9967 - val_loss: 0.0318 - val_accuracy: 0.9923\n",
      "Epoch 21/200\n",
      "1875/1875 [==============================] - 16s 9ms/step - loss: 0.0091 - accuracy: 0.9969 - val_loss: 0.0285 - val_accuracy: 0.9934\n",
      "Epoch 22/200\n",
      "1875/1875 [==============================] - 16s 9ms/step - loss: 0.0090 - accuracy: 0.9972 - val_loss: 0.0298 - val_accuracy: 0.9934\n",
      "Epoch 23/200\n",
      "1875/1875 [==============================] - 16s 9ms/step - loss: 0.0075 - accuracy: 0.9976 - val_loss: 0.0312 - val_accuracy: 0.9929\n",
      "Epoch 24/200\n",
      "1875/1875 [==============================] - 16s 9ms/step - loss: 0.0089 - accuracy: 0.9974 - val_loss: 0.0336 - val_accuracy: 0.9924\n",
      "Epoch 25/200\n",
      "1875/1875 [==============================] - 16s 9ms/step - loss: 0.0075 - accuracy: 0.9979 - val_loss: 0.0336 - val_accuracy: 0.9933\n",
      "Epoch 26/200\n",
      "1875/1875 [==============================] - 16s 9ms/step - loss: 0.0083 - accuracy: 0.9976 - val_loss: 0.0437 - val_accuracy: 0.9909\n",
      "Epoch 27/200\n",
      "1875/1875 [==============================] - 16s 9ms/step - loss: 0.0073 - accuracy: 0.9978 - val_loss: 0.0287 - val_accuracy: 0.9940\n",
      "Epoch 28/200\n",
      "1875/1875 [==============================] - 16s 9ms/step - loss: 0.0086 - accuracy: 0.9974 - val_loss: 0.0322 - val_accuracy: 0.9927\n",
      "Epoch 29/200\n",
      "1875/1875 [==============================] - 16s 9ms/step - loss: 0.0059 - accuracy: 0.9981 - val_loss: 0.0384 - val_accuracy: 0.9928\n",
      "Epoch 30/200\n",
      "1875/1875 [==============================] - 16s 9ms/step - loss: 0.0071 - accuracy: 0.9980 - val_loss: 0.0313 - val_accuracy: 0.9933\n"
     ]
    },
    {
     "data": {
      "text/plain": [
       "<keras.callbacks.History at 0x24257ceb730>"
      ]
     },
     "execution_count": 136,
     "metadata": {},
     "output_type": "execute_result"
    }
   ],
   "source": [
    "model.fit(X_train, y_train, batch_size=32, validation_data=(X_test, y_test), callbacks=[early], epochs=200)"
   ]
  },
  {
   "cell_type": "code",
   "execution_count": 137,
   "id": "c9c1810e",
   "metadata": {
    "scrolled": true
   },
   "outputs": [
    {
     "name": "stdout",
     "output_type": "stream",
     "text": [
      "313/313 [==============================] - 1s 4ms/step\n"
     ]
    }
   ],
   "source": [
    "y_hatx = model.predict(X_test)"
   ]
  },
  {
   "cell_type": "code",
   "execution_count": 138,
   "id": "18476818",
   "metadata": {},
   "outputs": [
    {
     "data": {
      "text/plain": [
       "(10000, 10)"
      ]
     },
     "execution_count": 138,
     "metadata": {},
     "output_type": "execute_result"
    }
   ],
   "source": [
    "y_hatx.shape"
   ]
  },
  {
   "cell_type": "code",
   "execution_count": 139,
   "id": "aabf639a",
   "metadata": {},
   "outputs": [],
   "source": [
    "y_hat = [y_hatx[i].argmax() for i in range(y_hatx.shape[0])]"
   ]
  },
  {
   "cell_type": "code",
   "execution_count": 140,
   "id": "0b2bba75",
   "metadata": {},
   "outputs": [],
   "source": [
    "y_true = y_test.apply(lambda x: x.argmax(), axis=1)"
   ]
  },
  {
   "cell_type": "code",
   "execution_count": 141,
   "id": "09d09a4b",
   "metadata": {},
   "outputs": [
    {
     "data": {
      "text/plain": [
       "99.33"
      ]
     },
     "execution_count": 141,
     "metadata": {},
     "output_type": "execute_result"
    }
   ],
   "source": [
    "(y_hat == y_true).mean()*100"
   ]
  },
  {
   "cell_type": "code",
   "execution_count": 142,
   "id": "3eaa7827",
   "metadata": {},
   "outputs": [],
   "source": [
    "from sklearn.metrics import classification_report, confusion_matrix"
   ]
  },
  {
   "cell_type": "code",
   "execution_count": 143,
   "id": "8a051dd7",
   "metadata": {},
   "outputs": [
    {
     "name": "stdout",
     "output_type": "stream",
     "text": [
      "              precision    recall  f1-score   support\n",
      "\n",
      "           0       0.99      1.00      0.99       980\n",
      "           1       0.99      1.00      1.00      1135\n",
      "           2       1.00      0.99      1.00      1032\n",
      "           3       0.99      1.00      0.99      1010\n",
      "           4       0.99      1.00      0.99       982\n",
      "           5       0.99      0.99      0.99       892\n",
      "           6       1.00      0.99      0.99       958\n",
      "           7       0.99      0.99      0.99      1028\n",
      "           8       0.99      0.99      0.99       974\n",
      "           9       1.00      0.99      0.99      1009\n",
      "\n",
      "    accuracy                           0.99     10000\n",
      "   macro avg       0.99      0.99      0.99     10000\n",
      "weighted avg       0.99      0.99      0.99     10000\n",
      "\n"
     ]
    }
   ],
   "source": [
    "print(classification_report(y_true, y_hat))"
   ]
  },
  {
   "cell_type": "code",
   "execution_count": 144,
   "id": "6b86cbe2",
   "metadata": {},
   "outputs": [
    {
     "name": "stdout",
     "output_type": "stream",
     "text": [
      "[[ 978    0    0    0    0    0    1    1    0    0]\n",
      " [   0 1132    0    1    0    2    0    0    0    0]\n",
      " [   1    0 1025    0    0    0    0    4    2    0]\n",
      " [   0    0    1 1005    0    3    0    0    1    0]\n",
      " [   0    0    0    0  978    0    0    0    1    3]\n",
      " [   1    0    0    6    0  882    1    1    0    1]\n",
      " [   4    3    0    0    1    1  947    0    2    0]\n",
      " [   0    4    1    0    1    0    0 1022    0    0]\n",
      " [   2    1    1    1    0    0    0    0  968    1]\n",
      " [   0    0    0    0    6    2    0    3    2  996]]\n"
     ]
    }
   ],
   "source": [
    "print(confusion_matrix(y_true, y_hat))"
   ]
  },
  {
   "cell_type": "code",
   "execution_count": 145,
   "id": "9bfb86a0",
   "metadata": {},
   "outputs": [],
   "source": [
    "model.save('mnistNew.h5', save_format='h5')"
   ]
  },
  {
   "cell_type": "code",
   "execution_count": null,
   "id": "9ff4fd24",
   "metadata": {},
   "outputs": [],
   "source": []
  }
 ],
 "metadata": {
  "kernelspec": {
   "display_name": "Python 3 (ipykernel)",
   "language": "python",
   "name": "python3"
  },
  "language_info": {
   "codemirror_mode": {
    "name": "ipython",
    "version": 3
   },
   "file_extension": ".py",
   "mimetype": "text/x-python",
   "name": "python",
   "nbconvert_exporter": "python",
   "pygments_lexer": "ipython3",
   "version": "3.9.13"
  }
 },
 "nbformat": 4,
 "nbformat_minor": 5
}
